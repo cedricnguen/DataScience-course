{
  "nbformat": 4,
  "nbformat_minor": 0,
  "metadata": {
    "colab": {
      "name": "Introduction to python.ipynb",
      "provenance": [],
      "collapsed_sections": []
    },
    "kernelspec": {
      "name": "python3",
      "display_name": "Python 3"
    },
    "language_info": {
      "name": "python"
    }
  },
  "cells": [
    {
      "cell_type": "markdown",
      "metadata": {
        "id": "AAY36w3CTEZN"
      },
      "source": [
        "# Tutorial: Python fundamentals concepts for data science\n",
        "\n",
        "In this tutorial, we introduce python fundamentals concepts for data science"
      ]
    },
    {
      "cell_type": "markdown",
      "metadata": {
        "id": "kvQmVQoBTqQt"
      },
      "source": [
        "## Points to cover in this tutorial:\n",
        "\n",
        "* Intallation of python\n",
        "\n",
        "* Variables\n",
        "\n",
        "* Types\n",
        "\n",
        "* Operations\n",
        "\n",
        "* Lists, dictionaries and tuples\n",
        "\n",
        "* Loops\n",
        "\n",
        "* Functions\n"
      ]
    },
    {
      "cell_type": "markdown",
      "source": [
        "## Intallation of python\n",
        "### On Windows\n",
        "\n",
        "1.  Go to the Python website [python.org/downloads](https://python.org/downloads). The site will automatically detect that you are running Windows and the version you are using: it will then display the appropriate Windows installer.\n",
        "2. Choose the version to install. We recommend the version version that start with 3.x.x(At the moment the latest version is 3.10.1)\n",
        "3. Click on the button **Download python 3.x.X** to start the download in your local machine.\n",
        "4. Run the installer once the download is complete. \n",
        "Check the Add Python 3.x.x to PATH box. This will allow you to run Python directly from the command prompt.\n",
        "5. Once the installation is complete, open the command line and tipe **python** as a command to check if the installation was successful. \n",
        "\n",
        "### On Linux\n",
        "- Most of Linux distribution have a python version installed by default. To check the actual installed version, open your prompt and type `python --version`. \n",
        "- To install the lastest version, open the terminal and  type the command `sudo apt-get install python`.\n",
        "- To install the most recent version in Red Hat and Fedora, open the terminal and type `sudo yum install python`.\n",
        "\n",
        "\n",
        "### On Mac\n",
        "Most of Mac have a default version of python installed.  Check the actual installed version(python 2.7). If you don't need a newer version, you don't have to do anything special. Otherwise, you can also install a 3.x.x version.\n",
        "1. Download the Python 3.x.x files from the Python website [python.org/downloads](https://python.org/downloads). Your browser should automatically detect the type of OS et redirect you the the python page for Mac but if it is not the case, click the Mac link.\n",
        "2. Double click the **PKG archive** to install Python. Follow the installation instructions that appear. In the large majority of cases, the default settings are sufficient.\n",
        "3. In order to verify that the installation went perfectly, open the terminal and type python3. The Python 3.x.x interface should appear and mention the version.\n"
      ],
      "metadata": {
        "id": "EyHaGq9DGhVV"
      }
    },
    {
      "cell_type": "markdown",
      "metadata": {
        "id": "XkBGn9xhT2Gb"
      },
      "source": [
        "## I- Variables"
      ]
    },
    {
      "cell_type": "markdown",
      "metadata": {
        "id": "Pn7T5uffV42F"
      },
      "source": [
        "A variable can be understood as a container that holds the elements manipulated in a program. Example:\n",
        "\n",
        "```\n",
        ">>>a = 2\n",
        ">>> a\n",
        "2\n",
        ">>> prenom = \"Pierre\"\n",
        ">>> prenom\n",
        "\"Pierre\"\n",
        ">>>adresse = \"Rue 18, angle 6 Dakar\"\n",
        ">>> adresse\n",
        "\"Rue 18, angle 6 Dakar\"\n",
        "\n",
        "```\n"
      ]
    },
    {
      "cell_type": "code",
      "metadata": {
        "colab": {
          "base_uri": "https://localhost:8080/"
        },
        "id": "5mSgQSPHmNqv",
        "outputId": "3e605141-ebe5-4576-9259-46b18695af43"
      },
      "source": [
        "a = 2 "
      ],
      "execution_count": null,
      "outputs": [
        {
          "output_type": "execute_result",
          "data": {
            "text/plain": [
              "2"
            ]
          },
          "metadata": {},
          "execution_count": 9
        }
      ]
    },
    {
      "cell_type": "code",
      "metadata": {
        "colab": {
          "base_uri": "https://localhost:8080/",
          "height": 35
        },
        "id": "kenee_MWmXT_",
        "outputId": "1f9c6fb9-7572-42ac-c732-71dfb1bf7b31"
      },
      "source": [
        "address = \"Rue 22, angle 18\"\n",
        "address"
      ],
      "execution_count": null,
      "outputs": [
        {
          "output_type": "execute_result",
          "data": {
            "application/vnd.google.colaboratory.intrinsic+json": {
              "type": "string"
            },
            "text/plain": [
              "'Rue 22, angle 18'"
            ]
          },
          "metadata": {},
          "execution_count": 10
        }
      ]
    },
    {
      "cell_type": "markdown",
      "metadata": {
        "id": "2AjcBjOmXUYZ"
      },
      "source": [
        "## II- Types in python"
      ]
    },
    {
      "cell_type": "markdown",
      "metadata": {
        "id": "--GUWtMUXWfU"
      },
      "source": [
        "In python, variables are not typed in advance. Their type is defined according to the value they contain. The following table presents some types that we can find in python.\n",
        "<table>\n",
        "<thead>\n",
        "  <tr>\n",
        "    <th>Types</th>\n",
        "    <th>Definition</th>\n",
        "    <th>Exemple</th>\n",
        "  </tr>\n",
        "</thead>\n",
        "<tbody>\n",
        "  <tr>\n",
        "    <td><b>Int</b>(Integer)</td>\n",
        "    <td>Natural number</td>\n",
        "    <td>2,4, 45, 567, 1998, 334445555</td>\n",
        "  </tr>\n",
        "  <tr>\n",
        "    <td><b>Float</b></td>\n",
        "    <td>Real number. Floating point integer</td>\n",
        "    <td>3.1; 58.7; 45.0906488</td>\n",
        "  </tr>\n",
        "  <tr>\n",
        "    <td><b>Str</b>(String)</td>\n",
        "    <td>It is a sequence of characters delimited either by apostrophe <br/>or by double quoting</td>\n",
        "    <td>\"Orange\", \"python\", \"Data science\"</td>\n",
        "  </tr>\n",
        "  <tr>\n",
        "    <td><b>bool</b>(boolean)</td>\n",
        "    <td>Used for boolean values</td>\n",
        "    <td>True, False</td>\n",
        "  </tr>\n",
        "  <tr>\n",
        "    <td><b>List</b></td>\n",
        "    <td>collection of elements separated by a comma.<br> A list is delimited by square brackets.</td>\n",
        "    <td>[2, 4,\"Orange\", 'Rue 12\", 'ths@af.com\", 34.5]</td>\n",
        "  </tr>\n",
        "  <tr>\n",
        "    <td><b>Dict</b></td>\n",
        "    <td>Collection of elements consisting of key/value.<br> A dictionary is delimited by \"braces\".</td>\n",
        "    <td>{\"fruit\": [\"orange\",\"Mango\"], \"age\": 23,&nbsp;&nbsp;\"succeed\":True, \"Notes\": [2, 4.5, 'Hello'], 'Name': 'Eric'}</td>\n",
        "  </tr>\n",
        "  <tr>\n",
        "    <td><b>Tuple</b></td>\n",
        "    <td>A tuple is delimited by \"parentheses\". <br> The elements of a tuple are not modifiable unlike those of a list.<br> They are said to be immutable</td>\n",
        "    <td>(2, 4,\"Orange\", 'Rue 12\", 'ths@af.com\", 34.5)</td>\n",
        "  </tr>\n",
        "</tbody>\n",
        "</table>\n",
        "\n",
        "The *type()* function is used to check the type of a variable/object.\n",
        "Example:\n",
        "\n",
        "```\n",
        ">>>type(2)\n",
        "int\n",
        ">>> a = \"Rose\"\n",
        ">>> type(a)\n",
        "str\n",
        "```"
      ]
    },
    {
      "cell_type": "code",
      "metadata": {
        "colab": {
          "base_uri": "https://localhost:8080/"
        },
        "id": "Va8hBy17mBFw",
        "outputId": "1b1cc15c-dcf7-4a78-b6b7-52f2836e5509"
      },
      "source": [
        "nbr = 345\n",
        "type(nbr)"
      ],
      "execution_count": null,
      "outputs": [
        {
          "output_type": "execute_result",
          "data": {
            "text/plain": [
              "int"
            ]
          },
          "metadata": {},
          "execution_count": 7
        }
      ]
    },
    {
      "cell_type": "markdown",
      "metadata": {
        "id": "2FLm26vdiqeG"
      },
      "source": [
        "## III- Operations in Python"
      ]
    },
    {
      "cell_type": "markdown",
      "metadata": {
        "id": "lduq-OLsivxT"
      },
      "source": [
        "Several operations can be performed on elements of the same or different type. "
      ]
    },
    {
      "cell_type": "markdown",
      "metadata": {
        "id": "90RFt30xjow8"
      },
      "source": [
        "### A- Addition - Rules"
      ]
    },
    {
      "cell_type": "markdown",
      "metadata": {
        "id": "W3DuYObPqKbE"
      },
      "source": [
        "\n",
        "\n",
        "```\n",
        "# int + int = int\n",
        ">>> 2 +4\n",
        "6\n",
        "# int + float = float\n",
        ">>> 4 + 5.9\n",
        "9.9\n",
        "# float + float = float\n",
        ">>> 8.4 + 1.2 = 9.6\n",
        "# str + int = error\n",
        ">>> 'Joel' + 5 \n",
        "error: cannot concatenate string and int\n",
        "# str + float = error\n",
        ">>> 'voiture' + 4.6 \n",
        "error: cannot concatenate string and float\n",
        "# str + str = str\n",
        ">>> 'machine ' + 'learning'\n",
        "machine learning\n",
        "\n",
        "```\n",
        "\n"
      ]
    },
    {
      "cell_type": "markdown",
      "metadata": {
        "id": "WtUpgC6poLFd"
      },
      "source": [
        "### Substraction - Rules\n"
      ]
    },
    {
      "cell_type": "markdown",
      "metadata": {
        "id": "DVbBpbxehgCa"
      },
      "source": [
        "\n",
        "\n",
        "```\n",
        "# int - int = int\n",
        ">>> 2 -4\n",
        "-2\n",
        "# int - float = float\n",
        ">>> 6 - 5.9\n",
        "1.9\n",
        "# float - float = float\n",
        ">>> 8.4 - 1.2 \n",
        "6.2\n",
        "# str - int = error\n",
        ">>> 'Joel' - 5 \n",
        "error: cannot concatenate string and int\n",
        "# str - float = error\n",
        ">>> 'voiture' - 4.6 \n",
        "error: cannot concatenate string and float\n",
        "# str - str = error\n",
        ">>> 'data science ' - 'machine learning'\n",
        "error\n",
        "```\n",
        "\n"
      ]
    },
    {
      "cell_type": "markdown",
      "metadata": {
        "id": "y35JsxkbiiX2"
      },
      "source": [
        "### Multiplication- Rules"
      ]
    },
    {
      "cell_type": "markdown",
      "metadata": {
        "id": "gy2yQZSOiial"
      },
      "source": [
        "\n",
        "\n",
        "```\n",
        "# int * int = int\n",
        ">>> 2*4\n",
        "8\n",
        "# int * float = float\n",
        ">>> 6 * 2.0\n",
        "12.0\n",
        "# float * float = float\n",
        ">>> 8.0 *  1.2 = 9.6\n",
        "# str * int = str\n",
        ">>> 'Joel' * 3\n",
        "'JoelJoelJoel\n",
        "# str * float = error\n",
        ">>> 'voiture' * 4.6 \n",
        "error: cannot concatenate string and float\n",
        "# str * str = error\n",
        ">>> 'data science ' * 'machine learning'\n",
        "error\n",
        "```\n",
        "\n"
      ]
    },
    {
      "cell_type": "markdown",
      "metadata": {
        "id": "og7z9719j0_n"
      },
      "source": [
        "### C- Division - Rules\n",
        "The division operator in Python is `/`. The integer division operator is `//`."
      ]
    },
    {
      "cell_type": "markdown",
      "metadata": {
        "id": "szzeNzKsj7gm"
      },
      "source": [
        "\n",
        "\n",
        "```\n",
        "# int / int = int or float\n",
        ">>> 2/4\n",
        "0.5\n",
        "# int / float = float\n",
        ">>> 6 / 5.2\n",
        "1.1538461538461537\n",
        "# float / float = float\n",
        ">>> 8.4 / 1.2 \n",
        "7.000\n",
        "\n",
        "# int // int = int\n",
        ">>> 2//4\n",
        "0\n",
        "# int // float = int\n",
        ">>> 6 / 5.2\n",
        "1\n",
        "# float // float = float\n",
        ">>> 8.4 / 1.2 \n",
        "7.0\n",
        "\n",
        "# str / int = error\n",
        ">>> 'Joel' / 5 \n",
        "error: cannot concatenate string and int\n",
        "# str / float = error\n",
        ">>> 'voiture' / 4.6 \n",
        "error: cannot concatenate string and float\n",
        "# str / str = error\n",
        ">>> 'data science ' / 'machine learning'\n",
        "error\n",
        "```\n",
        "\n"
      ]
    },
    {
      "cell_type": "markdown",
      "metadata": {
        "id": "OlYxqwhOuoZU"
      },
      "source": [
        "### D- Comparison operators\n",
        "They are used to compare two objects. The formula is `obj1 op obj2`. \n",
        "The comparison operators return an array ( `True or False)`. They can be used to set a condition.  "
      ]
    },
    {
      "cell_type": "markdown",
      "metadata": {
        "id": "qOCBiMaqSLl-"
      },
      "source": [
        "| operator in maths | Equivalent in python | signification     |                                 Example in python                                |\n",
        "|:------------------:|:-------------------:|-------------------|:--------------------------------------------------------------------------------:|\n",
        "|          >         |          >          |        greater than          |                                        5>2                                       |\n",
        "|          <         |          <          |        less than         |                                       3<1.4                                      |\n",
        "|        $\\ge$       |          >=         |      greater or equal  |                                       2>=2                                       |\n",
        "|        $\\le$       |          <=         |        less or equal|                                       6<=8                                       |\n",
        "|          =         |          =          |          equal            |                      1= 1; 'learn' = 'er;  \"3 big\" = \"3 big\"                    |\n",
        "|          $\\neq$         |          !=          |          different           |                      1!= 4; 'learn' != 'learn;  \"3 big\" != \"3 big\"  |\n",
        "|        $\\in$       |          in         |         belong        |                    4 in [2,4,9,1]; 'test' in 'this is a smart'                   |\n",
        "|      $\\notin$      |        not in       |    does not belong to   |    \"learning\" not in [ \"machine\", \"Big data\"]; 'machine'  not in \"machine learning\" |"
      ]
    },
    {
      "cell_type": "markdown",
      "metadata": {
        "id": "zrFK3_OqQaT-"
      },
      "source": [
        "\\"
      ]
    },
    {
      "cell_type": "markdown",
      "metadata": {
        "id": "Kbkc7smcmBoT"
      },
      "source": [
        "### E-modulo\n",
        "The modulo operator in python is \"%\". It is the remainder of the division of an integer a by an integer b.\n",
        "\n",
        "```\n",
        ">>>5%2\n",
        "1\n",
        "```\n",
        "\n"
      ]
    },
    {
      "cell_type": "markdown",
      "metadata": {
        "id": "tBOHOb4LWJLJ"
      },
      "source": [
        "### F- Power\n",
        "The power operator in python is `**`. x to the power y is noted `x**y`. where x and y are either Int or Float.\n",
        "Example:\n",
        "\n",
        "```\n",
        ">>> 2**3\n",
        "8\n",
        ">>> 4.5**3\n",
        "91.125\n",
        "```\n",
        "\n"
      ]
    },
    {
      "cell_type": "markdown",
      "source": [
        "## G- Incremetation\n",
        "Incrementation is used to simply some operation like addition, substraction,concatenation,etc. It is apply to int, string, float, and list(concatenation of list). Incrementation is done with the syntax: `op=` where `op= {+,-, /, **, *}`\n",
        "Example:\n",
        "```\n",
        ">>> v = 5\n",
        ">>> v += 3 \n",
        "8\n",
        ">>> v -= 3\n",
        "2\n",
        ">>> v *= 4\n",
        "20\n",
        ">>> s = \"machine \"\n",
        ">>> s += \"learning\"\n",
        "\"machine learnig \n",
        "\n",
        "```"
      ],
      "metadata": {
        "id": "XI15EILMfpTM"
      }
    },
    {
      "cell_type": "markdown",
      "metadata": {
        "id": "oF7L2ZgZiqa2"
      },
      "source": [
        "# IV- Lists, dictionnars et tuples"
      ]
    },
    {
      "cell_type": "markdown",
      "metadata": {
        "id": "2pUPgp3cL4P9"
      },
      "source": [
        "## A- List\n",
        "A list in python is a collection of elements separated by a comma. The elements of a list are not necessarily of the same type.\n",
        "\n",
        "```\n",
        "# initialize a list\n",
        "a = []\n",
        "my_list = [1, 1, 3.12, False, \"Hi\"]\n",
        "```\n",
        "##### Operations on lists\n",
        "\n",
        "```\n",
        "# Add a list of elements in a list \n",
        "[2, 4].extend([\"Orange\",2.6]) \n",
        "Result : [2,4, \"Orange\"]\n",
        "```\n",
        "```\n",
        "# Concatenate two lists\n",
        "new_list = [2, 4] + [\"Orange\"]\n",
        "Result: [2, 4, \"Orange\"] \n",
        "\n",
        "# or simplily\n",
        " new_list = [2,4]\n",
        " new_list += [\"Orange\"]\n",
        " result: [2, 4, \"Orange\"]\n",
        "```\n",
        "\n",
        "```\n",
        "# add/append a single element in a list\n",
        "my_list.append('learning')\n",
        "```\n",
        "\n",
        "\n",
        "```\n",
        "# List are indexed from 0. indexes are used to get an element at a specific position(list_name[index]) or to slice(clone) a list.\n",
        ">>>my_list[3]\n",
        "False\n",
        "```\n",
        "\n",
        "```\n",
        "# Clone elements of a list( slicing)\n",
        ">>> my_list = [2,4,\"root\", \"name\", True, 3, [\"Orange\",\"Banana\"],\"python\"]\n",
        "\n",
        ">>> my_list [:]  # return all the element of the list\n",
        "[2,4,\"root\", \"name\", True]\n",
        "\n",
        ">>> my_list[:3]  # return the first 3 elements of a list\n",
        "[2,4,\"root\", \"name\"]\n",
        ">>> my_list[:-1] # retrurn the last element of the list\n",
        "\"python\"\n",
        "\n",
        ">>> my_list'[-3:] # return the last 3 elements of the list\n",
        "[3, [\"Orange\",\"Banana\"],\"python\"]\n",
        "\n",
        ">>> my_list'[1:4] # return list element between postion 1 and 4.\n",
        "[\"root\", \"name\", True, 3, [\"Orange\",\"Banana\"]]\n",
        "```\n",
        "\n",
        "\n",
        "```\n",
        "# Modify an element at a specific position using index: \n",
        ">>> my_list[0] = 6 #modify the element at position 0\n",
        "[0,4,\"root\", \"name\", True, 3, [\"Orange\",\"Banana\"],\"python\"]\n",
        "```\n",
        "\n",
        "\n",
        "\n",
        "\n",
        "\n",
        "\n",
        "\n",
        "\n"
      ]
    },
    {
      "cell_type": "markdown",
      "metadata": {
        "id": "KstUSOVlWL9O"
      },
      "source": [
        "### B- Dictionnary\n",
        "\n",
        "A dictionary is a collection of elements separated by commas. Each element is in key/value format. The key allows access to a value.\n",
        "\n",
        "\n",
        "```\n",
        "# Initialization of a dictionnary\n",
        "my_dict = {}\n",
        "my_dictio = {\"Name\": \"Peter\", \"Age\": 25, \"Skills\":[\"python\", \"Big data\", \"Machine learning\", \"data science\", \"Analytics\"], 'city': 'Douala'}\n",
        "```\n",
        "##### Operations on dictionnary\n",
        "\n",
        "```\n",
        "# Get a value of a dictionnary with the key: valeur = dict_name[key]\n",
        ">>> my_dictio[\"Age\"] \n",
        "25\n",
        "```\n",
        "```\n",
        "# Get all the values of the dictionnary: dict_name.values()\n",
        ">>>my_dictio.values() \n",
        "[\"Peter\", 25, [\"python\", \"Big data\", \"Machine learning\", \"data science\", \"Analytics\"],'Douala']\n",
        "```\n",
        "```\n",
        "# Get all the keys of the dictionnary: dict_name.keys()\n",
        ">>>my_dictio.keys() \n",
        "[\"Name\", \"Age\", \"Skills\",'city']\n",
        "```\n",
        "\n",
        "\n",
        "\n",
        "\n",
        "\n",
        "\n",
        "\n",
        "\n",
        "\n"
      ]
    },
    {
      "cell_type": "markdown",
      "metadata": {
        "id": "Na2EkatOZcJ_"
      },
      "source": [
        "### C- Tuples\n",
        "A tuple is a sequence of elements separated by commas. A tuple is delimited by `()` parentheses. Unlike lists, the elements of a tuple cannot be modified. We say that tuples are immutable.\n",
        "\n",
        "```\n",
        "# Initialization of a tuple\n",
        ">>>my_tuple = () # Inititialization with empty tuple\n",
        ">>>the_tuple = (3,\"Orange\",2.7, False) # Initialization with not empty tuple\n",
        ">>> t = \"orange\", 4,True # Initialization without bracket and with values\n",
        ">>> t\n",
        "(\"orange\", 4,True)\n",
        "```\n",
        "Remark: All the operations that can be performed on the lists except the modification are also performed on the tuples.\n",
        "\n"
      ]
    },
    {
      "cell_type": "markdown",
      "metadata": {
        "id": "IZVSVH9sz9SS"
      },
      "source": [
        "## IV The structures of control\n",
        "These statements allow a program or portion of a program to be executed under a condition.\n",
        "\n",
        "\n",
        "The `If...` statement is used when there is only one option to check\n",
        "```\n",
        ">>> if condition:\n",
        "        Instruction 1\n",
        "        Instruction 2\n",
        "           ...\n",
        "        Instruction n\n",
        "```\n",
        "Example : \n",
        "```\n",
        "# if x >2 then add 3 to x\n",
        "if x>2:\n",
        "   p = x+3\n",
        "```\n",
        "\n",
        "Condition `if ... else...` is used when the first condition is not true and we want to handle the other case.\n",
        "\n",
        "```\n",
        "if condition:\n",
        "    Instruction 1\n",
        "    Instruction 2\n",
        "       ...\n",
        "    Instruction n\n",
        "    \n",
        "else:\n",
        "   Instruction 1\n",
        "   Instruction 2\n",
        "       ...\n",
        "   Instruction m\n",
        "```\n",
        "Example: \n",
        "\n",
        "```\n",
        "# If p is greater than 2, then sum x +3 and affect to p else initialize i, and print \" x is small\" while i<5. \n",
        "if x>2:\n",
        "   p = x+3\n",
        "else: \n",
        "    i=0\n",
        "    while i<5:\n",
        "       print(\"x is small\")\n",
        "```\n",
        "\n",
        "\n",
        "Condition `if...elif` is used when one would like to manage several alternatives.\n",
        "\n",
        "```\n",
        "if condition 1:\n",
        "    intruction1\n",
        "elif condition 2:\n",
        "    instruction 2\n",
        "\n",
        "```\n",
        "\n",
        "\n",
        "\n",
        "\n",
        "\n"
      ]
    },
    {
      "cell_type": "markdown",
      "metadata": {
        "id": "XqcWYaDlo5oY"
      },
      "source": [
        ""
      ]
    },
    {
      "cell_type": "code",
      "metadata": {
        "id": "fxG9DJEviFas"
      },
      "source": [
        ""
      ],
      "execution_count": null,
      "outputs": []
    },
    {
      "cell_type": "markdown",
      "metadata": {
        "id": "b0X4GjpToGk_"
      },
      "source": [
        "# VI- Loop"
      ]
    },
    {
      "cell_type": "markdown",
      "metadata": {
        "id": "1DNSdV0noXll"
      },
      "source": [
        "Loops are used to execute a part or portion of a program several times. "
      ]
    },
    {
      "cell_type": "markdown",
      "metadata": {
        "id": "lPT5ifIdo6sK"
      },
      "source": [
        "### `For`  Loop \n",
        "It is used when you know how many times you must have the operation.\n",
        "Example:\n",
        "\n",
        "```\n",
        "A = [4,5,8,7,0,1]\n",
        "B= []\n",
        "for i in  A:\n",
        "      # increment each element of the list A and append the result in the list B\n",
        "      B.append(i+1) \n",
        "\n",
        "Result:  B= [5,6,9,8,1,2]    \n",
        "```\n",
        "\n"
      ]
    },
    {
      "cell_type": "markdown",
      "metadata": {
        "id": "W8cGvhQvqcgH"
      },
      "source": [
        "### While loop"
      ]
    },
    {
      "cell_type": "markdown",
      "metadata": {
        "id": "Nll2kl44qiJj"
      },
      "source": [
        "The `while` loop is used when you don't know how many times the loop will be performed.\n",
        "```\n",
        "i = 9\n",
        "# while i is greater than 5, execute the program\n",
        "while i >= 5:\n",
        "      print(\"the value of i is: \",i-1)\n",
        "      \n",
        "Result: \n",
        "The value of i is: 8\n",
        "The value of i is: 7\n",
        "The value of i is: 6\n",
        "The value of i is: 5\n",
        "```\n",
        "\n"
      ]
    },
    {
      "cell_type": "markdown",
      "metadata": {
        "id": "XFem0qxUgpVX"
      },
      "source": [
        ""
      ]
    },
    {
      "cell_type": "markdown",
      "metadata": {
        "id": "5RY9Tbt6gpX3"
      },
      "source": [
        "# VI- Functions"
      ]
    },
    {
      "cell_type": "markdown",
      "metadata": {
        "id": "9aPzULZtqr1E"
      },
      "source": [
        "Functions are used when one wants to isolate a set of instructions that must be performed several times by a program with only different parameters. A function is created with the keyword `def` and its skeleton is presented as follows\n",
        "```\n",
        "def Nom_de_la_fonction():\n",
        "      Instructions\n",
        "```\n",
        "A function can take no parameters or take one or more parameters.\n",
        "exemple:\n",
        "\n",
        "```\n",
        "# Function without parameters\n",
        "def Incrementation():\n",
        "      i=0\n",
        "      my_list = []\n",
        "      while i > 5:\n",
        "          #Add i to the list\n",
        "          my_list.append(i)\n",
        "          # i = i +1\n",
        "          i+=1 \n",
        "     return my_list\n",
        ">>>Incrementation()\n",
        "[0,1,2,3,4]\n",
        "```\n",
        "\n",
        "```\n",
        "# Fonction with parameter\n",
        "def  adding(number):\n",
        "          i = 5\n",
        "          i = 5 + number \n",
        "          return i     \n",
        "\n",
        ">>> adding(3) # Execution of the function\n",
        "8\n",
        "```\n",
        "To execute a function you just have to call the function with its parameters like this: `function_name(parameters)`"
      ]
    },
    {
      "cell_type": "markdown",
      "metadata": {
        "id": "56aESA6eo_fM"
      },
      "source": [
        "The python language has a set of functions already defined (predefined function). We used some of them previously in  this tutorial.\n",
        "Examples:\n",
        "\n",
        "**print()** : print result\n",
        "```\n",
        ">>> print(\"I am learning data science\")\n",
        "I am learning data science\n",
        ">>> print(2)\n",
        "2\n",
        ">>> b = 4 + 5\n",
        ">>> print(b)\n",
        "9\n",
        "```\n",
        "**range(n, m, inc)**: creates an ordered sequence of numbers between n (by default n=0) and m-1 increment by inc(by default inc=1). Where n, and m and inc are float?\n",
        "\n",
        "```\n",
        ">>> range(4):\n",
        "[0,1,2,3]\n",
        ">>> range(2, 8)\n",
        "[2,3,4,5,6,7]\n",
        "# Returns the list of even numbers between 2 and 9\n",
        ">>> range(2, 10, 2)\n",
        "[2, 4, 6,8]\n",
        "```\n",
        "\n",
        "**len(objet)**: return the number of element of an object( liste, str, tuple, dict)\n",
        "\n",
        "\n",
        "```\n",
        ">>> a = [3,23.4, 5]\n",
        ">>> len(a)\n",
        "3\n",
        ">>> len(\"machine learning\")\n",
        "16\n",
        ">>> len((5,90,33, 0))\n",
        "4\n",
        "```\n",
        "**sum(objet)**: Sum all element of the object(list,tuple, array)\n",
        "```\n",
        ">>> my_list = [3,4,6,1]\n",
        ">>> sum(my_list)\n",
        "14\n",
        "\n",
        ">>>sum((3,7,9))\n",
        "19\n",
        "```\n",
        "\n",
        "\n",
        "\n",
        "\n",
        "\n"
      ]
    },
    {
      "cell_type": "code",
      "metadata": {
        "colab": {
          "base_uri": "https://localhost:8080/"
        },
        "id": "V4M9GC9pr0Lj",
        "outputId": "ae027328-e39f-4357-aa2e-4ecd5586e0ca"
      },
      "source": [
        "sum((3,4))"
      ],
      "execution_count": null,
      "outputs": [
        {
          "output_type": "execute_result",
          "data": {
            "text/plain": [
              "7"
            ]
          },
          "metadata": {},
          "execution_count": 3
        }
      ]
    },
    {
      "cell_type": "code",
      "metadata": {
        "id": "NL0yinhIV2XQ"
      },
      "source": [
        ""
      ],
      "execution_count": null,
      "outputs": []
    }
  ]
}